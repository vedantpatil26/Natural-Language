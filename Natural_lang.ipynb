{
 "cells": [
  {
   "cell_type": "markdown",
   "id": "0ae4ed69-a923-437b-b62d-17e5d6f09601",
   "metadata": {},
   "source": [
    "# 21MIC0087 Hands-on-session 2"
   ]
  },
  {
   "cell_type": "code",
   "execution_count": 1,
   "id": "cca6e8ad-bc9e-4e4b-8944-5f68cd1577cb",
   "metadata": {
    "tags": []
   },
   "outputs": [],
   "source": [
    "import nltk"
   ]
  },
  {
   "cell_type": "code",
   "execution_count": 28,
   "id": "3cb921f5-dde6-4ee1-89c7-a349a63136cc",
   "metadata": {
    "tags": []
   },
   "outputs": [],
   "source": [
    "text1=\"Natural language processing (NLP) refers to the branch of computer science—and more specifically, the branch of artificial intelligence or AI—concerned with giving computers the ability to understand text and spoken words in much the same way human beings can.\""
   ]
  },
  {
   "cell_type": "code",
   "execution_count": 3,
   "id": "5290d159-eb28-4958-8d4c-0a367301367a",
   "metadata": {
    "tags": []
   },
   "outputs": [],
   "source": [
    "fd=nltk.FreqDist(text1.split())"
   ]
  },
  {
   "cell_type": "code",
   "execution_count": 5,
   "id": "f54a7668-a866-49d2-9a78-1d6188247eaf",
   "metadata": {
    "tags": []
   },
   "outputs": [
    {
     "data": {
      "text/plain": [
       "['Natural',\n",
       " 'language',\n",
       " 'processing',\n",
       " '(NLP)',\n",
       " 'refers',\n",
       " 'to',\n",
       " 'the',\n",
       " 'branch',\n",
       " 'of',\n",
       " 'computer',\n",
       " 'science—and',\n",
       " 'more',\n",
       " 'specifically,',\n",
       " 'the',\n",
       " 'branch',\n",
       " 'of',\n",
       " 'artificial',\n",
       " 'intelligence',\n",
       " 'or',\n",
       " 'AI—concerned',\n",
       " 'with',\n",
       " 'giving',\n",
       " 'computers',\n",
       " 'the',\n",
       " 'ability',\n",
       " 'to',\n",
       " 'understand',\n",
       " 'text',\n",
       " 'and',\n",
       " 'spoken',\n",
       " 'words',\n",
       " 'in',\n",
       " 'much',\n",
       " 'the',\n",
       " 'same',\n",
       " 'way',\n",
       " 'human',\n",
       " 'beings',\n",
       " 'can.']"
      ]
     },
     "execution_count": 5,
     "metadata": {},
     "output_type": "execute_result"
    }
   ],
   "source": [
    "text1.split()"
   ]
  },
  {
   "cell_type": "code",
   "execution_count": 6,
   "id": "33cf0eac-88b5-4633-b82f-71319f667c52",
   "metadata": {
    "tags": []
   },
   "outputs": [
    {
     "data": {
      "text/plain": [
       "FreqDist({'the': 4, 'to': 2, 'branch': 2, 'of': 2, 'Natural': 1, 'language': 1, 'processing': 1, '(NLP)': 1, 'refers': 1, 'computer': 1, ...})"
      ]
     },
     "execution_count": 6,
     "metadata": {},
     "output_type": "execute_result"
    }
   ],
   "source": [
    "fd"
   ]
  },
  {
   "cell_type": "code",
   "execution_count": 9,
   "id": "bef4de9b-d18c-4d49-84e2-b9653d383013",
   "metadata": {
    "tags": []
   },
   "outputs": [],
   "source": [
    "from nltk.corpus import inaugural"
   ]
  },
  {
   "cell_type": "code",
   "execution_count": 23,
   "id": "1e3f7381-49a5-431b-8902-b527784c5a0a",
   "metadata": {
    "tags": []
   },
   "outputs": [],
   "source": [
    "text2=inaugural.words(fileids='1861-Lincoln.txt')[1000:2000]"
   ]
  },
  {
   "cell_type": "code",
   "execution_count": 24,
   "id": "4022ac8c-3f97-4e5d-bd7a-2f3db6dba354",
   "metadata": {
    "tags": []
   },
   "outputs": [
    {
     "data": {
      "text/plain": [
       "FreqDist({'the': 70, ',': 51, 'of': 38, 'to': 32, 'and': 30, '.': 24, 'be': 23, 'in': 19, 'Union': 16, 'it': 16, ...})"
      ]
     },
     "execution_count": 24,
     "metadata": {},
     "output_type": "execute_result"
    }
   ],
   "source": [
    "nltk.FreqDist(text2)"
   ]
  },
  {
   "cell_type": "code",
   "execution_count": 31,
   "id": "afbe0e9d-ea53-4e80-8c56-751287e4424e",
   "metadata": {
    "tags": []
   },
   "outputs": [],
   "source": [
    "from nltk.probability import ConditionalFreqDist\n",
    "cfd=ConditionalFreqDist((len(word),word)for word in text2)"
   ]
  },
  {
   "cell_type": "code",
   "execution_count": 39,
   "id": "cecb0597-3575-4fdc-ac66-c30a35c7e1a4",
   "metadata": {
    "tags": []
   },
   "outputs": [
    {
     "data": {
      "text/plain": [
       "FreqDist({'contemplation': 2, 'circumstances': 2, 'Confederation': 1, 'revolutionary': 1, 'authoritative': 1, 'impracticable': 1})"
      ]
     },
     "execution_count": 39,
     "metadata": {},
     "output_type": "execute_result"
    }
   ],
   "source": [
    "cfd[13]"
   ]
  },
  {
   "cell_type": "code",
   "execution_count": null,
   "id": "700dc7b6-fd21-4320-8522-8e276bfb8011",
   "metadata": {},
   "outputs": [],
   "source": []
  },
  {
   "cell_type": "code",
   "execution_count": 40,
   "id": "2e7e31a8-ef97-4713-bfbb-f5d154ee0975",
   "metadata": {
    "tags": []
   },
   "outputs": [
    {
     "name": "stdout",
     "output_type": "stream",
     "text": [
      "Collecting jieba\n",
      "  Downloading jieba-0.42.1.tar.gz (19.2 MB)\n",
      "\u001b[2K     \u001b[38;2;114;156;31m━━━━━━━━━━━━━━━━━━━━━━━━━━━━━━━━━━━━━━━\u001b[0m \u001b[32m19.2/19.2 MB\u001b[0m \u001b[31m279.3 kB/s\u001b[0m eta \u001b[36m0:00:00\u001b[0mm eta \u001b[36m0:00:01\u001b[0m[36m0:00:02\u001b[0m\n",
      "\u001b[?25h  Preparing metadata (setup.py) ... \u001b[?25ldone\n",
      "\u001b[?25hBuilding wheels for collected packages: jieba\n",
      "  Building wheel for jieba (setup.py) ... \u001b[?25ldone\n",
      "\u001b[?25h  Created wheel for jieba: filename=jieba-0.42.1-py3-none-any.whl size=19314458 sha256=e5cf219d08580be4afda223c1c07c8e894b412ebf4d8cf7db3548b62cb7cc9b1\n",
      "  Stored in directory: /home/vedant/.cache/pip/wheels/ac/60/cf/538a1f183409caf1fc136b5d2c2dee329001ef6da2c5084bef\n",
      "Successfully built jieba\n",
      "Installing collected packages: jieba\n",
      "Successfully installed jieba-0.42.1\n",
      "Note: you may need to restart the kernel to use updated packages.\n"
     ]
    }
   ],
   "source": [
    "pip install jieba"
   ]
  },
  {
   "cell_type": "code",
   "execution_count": 41,
   "id": "5ebf3fe8-bf73-45f5-b311-d9cfbd5fbba4",
   "metadata": {
    "tags": []
   },
   "outputs": [],
   "source": [
    "import jieba"
   ]
  },
  {
   "cell_type": "code",
   "execution_count": 42,
   "id": "5864eb4b-ea27-4a93-bbf6-fb9c59078dc2",
   "metadata": {
    "tags": []
   },
   "outputs": [],
   "source": [
    "seg_list=jieba.cut(\"你好吗\",cut_all=True)"
   ]
  },
  {
   "cell_type": "code",
   "execution_count": 46,
   "id": "e6dab9a2-a078-4dde-bb93-2aa83908de95",
   "metadata": {
    "tags": []
   },
   "outputs": [
    {
     "name": "stdout",
     "output_type": "stream",
     "text": [
      "<generator object Tokenizer.cut at 0x7f7674ce62a0>\n"
     ]
    }
   ],
   "source": [
    "print(seg_list)"
   ]
  },
  {
   "cell_type": "code",
   "execution_count": 47,
   "id": "e182dea4-b926-4791-882e-afb7707de677",
   "metadata": {
    "tags": []
   },
   "outputs": [
    {
     "name": "stderr",
     "output_type": "stream",
     "text": [
      "Building prefix dict from the default dictionary ...\n",
      "Dumping model to file cache /tmp/jieba.cache\n",
      "Loading model cost 0.779 seconds.\n",
      "Prefix dict has been built successfully.\n"
     ]
    },
    {
     "name": "stdout",
     "output_type": "stream",
     "text": [
      "你好,吗\n"
     ]
    }
   ],
   "source": [
    "print(\",\".join(seg_list))"
   ]
  },
  {
   "cell_type": "markdown",
   "id": "9c99fe35-00b1-440b-9d59-5fd99d476131",
   "metadata": {},
   "source": [
    "Splitted based on greedy segmentation algorithm"
   ]
  },
  {
   "cell_type": "markdown",
   "id": "e147711f-e8a6-42bc-9036-8ea27711c8fd",
   "metadata": {},
   "source": [
    "## Manual word phoenitic\n",
    "\n",
    "mæn.ju.əl"
   ]
  },
  {
   "cell_type": "markdown",
   "id": "ba32a793-0511-41cc-a6f6-01121d2a5d15",
   "metadata": {},
   "source": [
    "# 21MIC0087 Hands-on Session-3"
   ]
  },
  {
   "cell_type": "code",
   "execution_count": 1,
   "id": "9f601255-9a88-42f1-ba8e-3c7a81313ece",
   "metadata": {
    "tags": []
   },
   "outputs": [
    {
     "data": {
      "text/plain": [
       "['i',\n",
       " 'me',\n",
       " 'my',\n",
       " 'myself',\n",
       " 'we',\n",
       " 'our',\n",
       " 'ours',\n",
       " 'ourselves',\n",
       " 'you',\n",
       " \"you're\",\n",
       " \"you've\",\n",
       " \"you'll\",\n",
       " \"you'd\",\n",
       " 'your',\n",
       " 'yours',\n",
       " 'yourself',\n",
       " 'yourselves',\n",
       " 'he',\n",
       " 'him',\n",
       " 'his',\n",
       " 'himself',\n",
       " 'she',\n",
       " \"she's\",\n",
       " 'her',\n",
       " 'hers',\n",
       " 'herself',\n",
       " 'it',\n",
       " \"it's\",\n",
       " 'its',\n",
       " 'itself',\n",
       " 'they',\n",
       " 'them',\n",
       " 'their',\n",
       " 'theirs',\n",
       " 'themselves',\n",
       " 'what',\n",
       " 'which',\n",
       " 'who',\n",
       " 'whom',\n",
       " 'this',\n",
       " 'that',\n",
       " \"that'll\",\n",
       " 'these',\n",
       " 'those',\n",
       " 'am',\n",
       " 'is',\n",
       " 'are',\n",
       " 'was',\n",
       " 'were',\n",
       " 'be',\n",
       " 'been',\n",
       " 'being',\n",
       " 'have',\n",
       " 'has',\n",
       " 'had',\n",
       " 'having',\n",
       " 'do',\n",
       " 'does',\n",
       " 'did',\n",
       " 'doing',\n",
       " 'a',\n",
       " 'an',\n",
       " 'the',\n",
       " 'and',\n",
       " 'but',\n",
       " 'if',\n",
       " 'or',\n",
       " 'because',\n",
       " 'as',\n",
       " 'until',\n",
       " 'while',\n",
       " 'of',\n",
       " 'at',\n",
       " 'by',\n",
       " 'for',\n",
       " 'with',\n",
       " 'about',\n",
       " 'against',\n",
       " 'between',\n",
       " 'into',\n",
       " 'through',\n",
       " 'during',\n",
       " 'before',\n",
       " 'after',\n",
       " 'above',\n",
       " 'below',\n",
       " 'to',\n",
       " 'from',\n",
       " 'up',\n",
       " 'down',\n",
       " 'in',\n",
       " 'out',\n",
       " 'on',\n",
       " 'off',\n",
       " 'over',\n",
       " 'under',\n",
       " 'again',\n",
       " 'further',\n",
       " 'then',\n",
       " 'once',\n",
       " 'here',\n",
       " 'there',\n",
       " 'when',\n",
       " 'where',\n",
       " 'why',\n",
       " 'how',\n",
       " 'all',\n",
       " 'any',\n",
       " 'both',\n",
       " 'each',\n",
       " 'few',\n",
       " 'more',\n",
       " 'most',\n",
       " 'other',\n",
       " 'some',\n",
       " 'such',\n",
       " 'no',\n",
       " 'nor',\n",
       " 'not',\n",
       " 'only',\n",
       " 'own',\n",
       " 'same',\n",
       " 'so',\n",
       " 'than',\n",
       " 'too',\n",
       " 'very',\n",
       " 's',\n",
       " 't',\n",
       " 'can',\n",
       " 'will',\n",
       " 'just',\n",
       " 'don',\n",
       " \"don't\",\n",
       " 'should',\n",
       " \"should've\",\n",
       " 'now',\n",
       " 'd',\n",
       " 'll',\n",
       " 'm',\n",
       " 'o',\n",
       " 're',\n",
       " 've',\n",
       " 'y',\n",
       " 'ain',\n",
       " 'aren',\n",
       " \"aren't\",\n",
       " 'couldn',\n",
       " \"couldn't\",\n",
       " 'didn',\n",
       " \"didn't\",\n",
       " 'doesn',\n",
       " \"doesn't\",\n",
       " 'hadn',\n",
       " \"hadn't\",\n",
       " 'hasn',\n",
       " \"hasn't\",\n",
       " 'haven',\n",
       " \"haven't\",\n",
       " 'isn',\n",
       " \"isn't\",\n",
       " 'ma',\n",
       " 'mightn',\n",
       " \"mightn't\",\n",
       " 'mustn',\n",
       " \"mustn't\",\n",
       " 'needn',\n",
       " \"needn't\",\n",
       " 'shan',\n",
       " \"shan't\",\n",
       " 'shouldn',\n",
       " \"shouldn't\",\n",
       " 'wasn',\n",
       " \"wasn't\",\n",
       " 'weren',\n",
       " \"weren't\",\n",
       " 'won',\n",
       " \"won't\",\n",
       " 'wouldn',\n",
       " \"wouldn't\"]"
      ]
     },
     "execution_count": 1,
     "metadata": {},
     "output_type": "execute_result"
    }
   ],
   "source": [
    "import nltk\n",
    "from nltk.corpus import stopwords\n",
    "stopwords.words('english')"
   ]
  },
  {
   "cell_type": "code",
   "execution_count": 3,
   "id": "bc60eb00-2111-454c-8ca3-cc6384d8b6f0",
   "metadata": {
    "tags": []
   },
   "outputs": [
    {
     "name": "stdout",
     "output_type": "stream",
     "text": [
      "('belford', ['B', 'EH1', 'L', 'F', 'ER0', 'D'])\n",
      "('belfry', ['B', 'EH1', 'L', 'F', 'R', 'IY0'])\n",
      "('belgacom', ['B', 'EH1', 'L', 'G', 'AH0', 'K', 'AA0', 'M'])\n",
      "('belgacom', ['B', 'EH1', 'L', 'JH', 'AH0', 'K', 'AA0', 'M'])\n",
      "('belgard', ['B', 'EH0', 'L', 'G', 'AA1', 'R', 'D'])\n",
      "('belgarde', ['B', 'EH0', 'L', 'G', 'AA1', 'R', 'D', 'IY0'])\n",
      "('belge', ['B', 'EH1', 'L', 'JH', 'IY0'])\n",
      "('belger', ['B', 'EH1', 'L', 'G', 'ER0'])\n",
      "('belgian', ['B', 'EH1', 'L', 'JH', 'AH0', 'N'])\n",
      "('belgians', ['B', 'EH1', 'L', 'JH', 'AH0', 'N', 'Z'])\n",
      "('belgique', ['B', 'EH0', 'L', 'ZH', 'IY1', 'K'])\n",
      "(\"belgique's\", ['B', 'EH0', 'L', 'JH', 'IY1', 'K', 'S'])\n",
      "('belgium', ['B', 'EH1', 'L', 'JH', 'AH0', 'M'])\n",
      "(\"belgium's\", ['B', 'EH1', 'L', 'JH', 'AH0', 'M', 'Z'])\n",
      "('belgo', ['B', 'EH1', 'L', 'G', 'OW2'])\n",
      "('belgrade', ['B', 'EH1', 'L', 'G', 'R', 'EY0', 'D'])\n",
      "('belgrade', ['B', 'EH1', 'L', 'G', 'R', 'AA2', 'D'])\n",
      "(\"belgrade's\", ['B', 'EH1', 'L', 'G', 'R', 'EY0', 'D', 'Z'])\n",
      "(\"belgrade's\", ['B', 'EH1', 'L', 'G', 'R', 'AA2', 'D', 'Z'])\n",
      "('belgrave', ['B', 'EH1', 'L', 'G', 'R', 'EY2', 'V'])\n",
      "('beli', ['B', 'EH1', 'L', 'IY0'])\n",
      "('belich', ['B', 'EH1', 'L', 'IH0', 'K'])\n",
      "('belie', ['B', 'IH0', 'L', 'AY1'])\n",
      "('belied', ['B', 'IH0', 'L', 'AY1', 'D'])\n",
      "('belief', ['B', 'IH0', 'L', 'IY1', 'F'])\n"
     ]
    }
   ],
   "source": [
    "entries=nltk.corpus.cmudict.entries()\n",
    "len(entries)\n",
    "for entry in entries[10000:10025]:\n",
    "    print(entry)"
   ]
  },
  {
   "cell_type": "code",
   "execution_count": 4,
   "id": "c0289969-e4e0-46ed-babf-5c264e0b064e",
   "metadata": {
    "tags": []
   },
   "outputs": [
    {
     "data": {
      "text/plain": [
       "['car', 'auto', 'automobile', 'machine', 'motorcar']"
      ]
     },
     "execution_count": 4,
     "metadata": {},
     "output_type": "execute_result"
    }
   ],
   "source": [
    "from nltk.corpus import wordnet as wn\n",
    "wn.synsets('motorcar')\n",
    "wn.synset('car.n.01').lemma_names()"
   ]
  },
  {
   "cell_type": "code",
   "execution_count": 7,
   "id": "409099b2-03a9-4d85-82f8-1903abd23a71",
   "metadata": {
    "tags": []
   },
   "outputs": [
    {
     "data": {
      "text/plain": [
       "['morning', 'morn', 'morning_time', 'forenoon']"
      ]
     },
     "execution_count": 7,
     "metadata": {},
     "output_type": "execute_result"
    }
   ],
   "source": [
    "wn.synsets('morning')\n",
    "wn.synset('morning.n.01').lemma_names()"
   ]
  },
  {
   "cell_type": "code",
   "execution_count": 11,
   "id": "8430825e-1130-46bc-8601-4a13d29c4394",
   "metadata": {
    "tags": []
   },
   "outputs": [
    {
     "data": {
      "text/plain": [
       "'studi'"
      ]
     },
     "execution_count": 11,
     "metadata": {},
     "output_type": "execute_result"
    }
   ],
   "source": [
    "from nltk.stem import PorterStemmer\n",
    "stemmerporter=PorterStemmer()\n",
    "stemmerporter.stem('Studying')"
   ]
  },
  {
   "cell_type": "code",
   "execution_count": 10,
   "id": "8a579d10-5ddd-469c-9fb6-0b84805e9bf4",
   "metadata": {
    "tags": []
   },
   "outputs": [
    {
     "data": {
      "text/plain": [
       "'study'"
      ]
     },
     "execution_count": 10,
     "metadata": {},
     "output_type": "execute_result"
    }
   ],
   "source": [
    "from nltk.stem import LancasterStemmer\n",
    "stemmerlancaster=LancasterStemmer()\n",
    "stemmerlancaster.stem('Studying')"
   ]
  },
  {
   "cell_type": "markdown",
   "id": "b7afaff5-b4ee-40b1-8021-cc8334eb70a3",
   "metadata": {},
   "source": [
    "We can see that for some words Lancaster stemmer is better than Porter Stemmer and vice versa"
   ]
  },
  {
   "cell_type": "code",
   "execution_count": 13,
   "id": "1a4f01f8-68dd-4ffc-86d5-c810fd0a8d9d",
   "metadata": {
    "tags": []
   },
   "outputs": [
    {
     "data": {
      "text/plain": [
       "'S'"
      ]
     },
     "execution_count": 13,
     "metadata": {},
     "output_type": "execute_result"
    }
   ],
   "source": [
    "from nltk.stem import RegexpStemmer\n",
    "stemmerregexp=RegexpStemmer('ing')\n",
    "stemmerregexp.stem('Singing')"
   ]
  },
  {
   "cell_type": "code",
   "execution_count": 17,
   "id": "787e7c4c-da80-41dc-b2ad-c63933494bca",
   "metadata": {
    "tags": []
   },
   "outputs": [
    {
     "data": {
      "text/plain": [
       "'manag'"
      ]
     },
     "execution_count": 17,
     "metadata": {},
     "output_type": "execute_result"
    }
   ],
   "source": [
    "from nltk.stem import SnowballStemmer\n",
    "SnowballStemmer.languages\n",
    "frenchstemmer=SnowballStemmer('french')\n",
    "frenchstemmer.stem('manages')"
   ]
  },
  {
   "cell_type": "code",
   "execution_count": 19,
   "id": "ca21c886-aca9-4d9f-aafa-7f89604a1ca6",
   "metadata": {
    "tags": []
   },
   "outputs": [
    {
     "name": "stdout",
     "output_type": "stream",
     "text": [
      "['Hi', 'my', 'name', 'is', 'Vedant', 'Patil']\n"
     ]
    }
   ],
   "source": [
    "sent=\"Hi my name is Vedant Patil\"\n",
    "words=nltk.word_tokenize(sent)\n",
    "print(words)"
   ]
  },
  {
   "cell_type": "code",
   "execution_count": 28,
   "id": "6ef68b0e-d640-429c-870b-c421cae06f1f",
   "metadata": {
    "tags": []
   },
   "outputs": [
    {
     "name": "stdout",
     "output_type": "stream",
     "text": [
      "[('NLP', 'NNP'), ('enables', 'VBZ'), ('computers', 'NNS'), ('to', 'TO'), ('understand', 'VB'), ('natural', 'JJ'), ('language', 'NN'), ('as', 'IN'), ('humans', 'NNS'), ('do', 'VBP'), ('.', '.')]\n",
      "[('Whether', 'IN'), ('the', 'DT'), ('language', 'NN'), ('is', 'VBZ'), ('spoken', 'VBN'), ('or', 'CC'), ('written', 'VBN'), (',', ','), ('natural', 'JJ'), ('language', 'NN'), ('processing', 'NN'), ('uses', 'VBZ'), ('artificial', 'JJ'), ('intelligence', 'NN'), ('to', 'TO'), ('take', 'VB'), ('real-world', 'NN'), ('input', 'NN'), (',', ','), ('process', 'NN'), ('it', 'PRP'), (',', ','), ('and', 'CC'), ('make', 'VB'), ('sense', 'NN'), ('of', 'IN'), ('it', 'PRP'), ('in', 'IN'), ('a', 'DT'), ('way', 'NN'), ('a', 'DT'), ('computer', 'NN'), ('can', 'MD'), ('understand', 'VB'), ('.', '.')]\n",
      "[('Just', 'RB'), ('as', 'IN'), ('humans', 'NNS'), ('have', 'VBP'), ('different', 'JJ'), ('sensors', 'NNS'), ('such', 'JJ'), ('as', 'IN'), ('ears', 'NNS'), ('to', 'TO'), ('hear', 'VB'), ('and', 'CC'), ('eyes', 'VB'), ('to', 'TO'), ('see', 'VB'), ('computers', 'NNS'), ('have', 'VBP'), ('programs', 'NNS'), ('to', 'TO'), ('read', 'VB'), ('and', 'CC'), ('microphones', 'NNS'), ('to', 'TO'), ('collect', 'VB'), ('audio', 'NN'), ('.', '.')]\n",
      "[('And', 'CC'), ('just', 'RB'), ('as', 'IN'), ('humans', 'NNS'), ('have', 'VBP'), ('a', 'DT'), ('brain', 'NN'), ('to', 'TO'), ('process', 'VB'), ('that', 'IN'), ('input', 'NN'), (',', ','), ('computers', 'NNS'), ('have', 'VBP'), ('a', 'DT'), ('program', 'NN'), ('to', 'TO'), ('process', 'VB'), ('their', 'PRP$'), ('respective', 'JJ'), ('inputs', 'NNS'), ('.', '.')]\n",
      "[('At', 'IN'), ('some', 'DT'), ('point', 'NN'), ('in', 'IN'), ('processing', 'NN'), (',', ','), ('the', 'DT'), ('input', 'NN'), ('is', 'VBZ'), ('converted', 'VBN'), ('to', 'TO'), ('code', 'VB'), ('that', 'IN'), ('the', 'DT'), ('computer', 'NN'), ('can', 'MD'), ('understand.There', 'VB'), ('are', 'VBP'), ('two', 'CD'), ('main', 'JJ'), ('phases', 'NNS'), ('to', 'TO'), ('natural', 'JJ'), ('language', 'NN'), ('processing', 'NN'), (':', ':'), ('data', 'NNS'), ('preprocessing', 'NN'), ('and', 'CC'), ('algorithm', 'NN'), ('development', 'NN'), ('.', '.')]\n"
     ]
    }
   ],
   "source": [
    "texts=\"NLP enables computers to understand natural language as humans do. Whether the language is spoken or written, natural language processing uses artificial intelligence to take real-world input, process it, and make sense of it in a way a computer can understand. Just as humans have different sensors such as ears to hear and eyes to see computers have programs to read and microphones to collect audio. And just as humans have a brain to process that input, computers have a program to process their respective inputs. At some point in processing, the input is converted to code that the computer can understand.There are two main phases to natural language processing: data preprocessing and algorithm development.\"\n",
    "sentences=nltk.sent_tokenize(texts)\n",
    "for sentence in sentences:\n",
    "    words=nltk.word_tokenize(sentence)\n",
    "    tagged=nltk.pos_tag(words)\n",
    "    print(tagged)"
   ]
  }
 ],
 "metadata": {
  "kernelspec": {
   "display_name": "Python 3 (ipykernel)",
   "language": "python",
   "name": "python3"
  },
  "language_info": {
   "codemirror_mode": {
    "name": "ipython",
    "version": 3
   },
   "file_extension": ".py",
   "mimetype": "text/x-python",
   "name": "python",
   "nbconvert_exporter": "python",
   "pygments_lexer": "ipython3",
   "version": "3.11.5"
  }
 },
 "nbformat": 4,
 "nbformat_minor": 5
}
